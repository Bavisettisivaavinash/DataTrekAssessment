{
 "cells": [
  {
   "cell_type": "code",
   "execution_count": 1,
   "id": "94362222-dd31-4c8c-b1fe-aed3a7a02fc2",
   "metadata": {},
   "outputs": [
    {
     "name": "stdout",
     "output_type": "stream",
     "text": [
      "/Users/bavisettisivaavinash/hadoopworker/spark-3.5.1-bin-hadoop3\n"
     ]
    }
   ],
   "source": [
    "import findspark\n",
    "findspark.init()\n",
    "print(findspark.find())"
   ]
  },
  {
   "cell_type": "code",
   "execution_count": 3,
   "id": "65afff41-5dc7-4869-83e6-034ae6721368",
   "metadata": {},
   "outputs": [
    {
     "name": "stderr",
     "output_type": "stream",
     "text": [
      "24/07/11 17:19:27 WARN Utils: Your hostname, Avinash-MacBook-Air.local resolves to a loopback address: 127.0.0.1; using 10.9.100.27 instead (on interface en0)\n",
      "24/07/11 17:19:27 WARN Utils: Set SPARK_LOCAL_IP if you need to bind to another address\n",
      "Setting default log level to \"WARN\".\n",
      "To adjust logging level use sc.setLogLevel(newLevel). For SparkR, use setLogLevel(newLevel).\n",
      "24/07/11 17:19:28 WARN NativeCodeLoader: Unable to load native-hadoop library for your platform... using builtin-java classes where applicable\n",
      "24/07/11 17:19:40 WARN GarbageCollectionMetrics: To enable non-built-in garbage collector(s) List(G1 Concurrent GC), users should configure it(them) to spark.eventLog.gcMetrics.youngGenerationGarbageCollectors or spark.eventLog.gcMetrics.oldGenerationGarbageCollectors\n"
     ]
    }
   ],
   "source": [
    "import pandas as pd\n",
    "import pyspark\n",
    "from pyspark.sql import SparkSession\n",
    "\n",
    "# Initialize SparkSession\n",
    "spark = SparkSession.builder.appName(\"ReadoExcel\").getOrCreate()\n",
    "\n",
    "spark_df4 = spark.read.csv('customer_demographic_modified.xlsx - demographic.csv', header=True, inferSchema=True)"
   ]
  },
  {
   "cell_type": "code",
   "execution_count": 4,
   "id": "ba5a1f75-551c-4569-9572-78305796ad85",
   "metadata": {},
   "outputs": [],
   "source": [
    "pandasDF = spark_df4.toPandas()"
   ]
  },
  {
   "cell_type": "code",
   "execution_count": 5,
   "id": "15dab37e-32e4-4a3a-996c-6a3ad3282ef0",
   "metadata": {},
   "outputs": [],
   "source": [
    "pandasDF.to_csv('customer_demographic_modified_zip_code.csv',columns=['Zip_Code','CSID'], header=True, index=False)"
   ]
  }
 ],
 "metadata": {
  "kernelspec": {
   "display_name": "Python 3 (ipykernel)",
   "language": "python",
   "name": "python3"
  },
  "language_info": {
   "codemirror_mode": {
    "name": "ipython",
    "version": 3
   },
   "file_extension": ".py",
   "mimetype": "text/x-python",
   "name": "python",
   "nbconvert_exporter": "python",
   "pygments_lexer": "ipython3",
   "version": "3.12.3"
  }
 },
 "nbformat": 4,
 "nbformat_minor": 5
}
